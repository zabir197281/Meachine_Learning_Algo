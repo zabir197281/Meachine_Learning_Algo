{
 "cells": [
  {
   "cell_type": "code",
   "execution_count": 2,
   "id": "7ed0b917",
   "metadata": {},
   "outputs": [],
   "source": [
    "import numpy as np\n",
    "import sklearn\n",
    "from sklearn.preprocessing import StandardScaler\n",
    "from sklearn.metrics import mean_squared_error\n",
    "from sklearn.linear_model import LinearRegression\n",
    "from sklearn.tree import DecisionTreeRegressor \n",
    "from sklearn.ensemble import RandomForestRegressor"
   ]
  },
  {
   "cell_type": "markdown",
   "id": "f5c76ea9",
   "metadata": {},
   "source": [
    "# Playing with the train data"
   ]
  },
  {
   "cell_type": "code",
   "execution_count": 3,
   "id": "2e25a074",
   "metadata": {},
   "outputs": [],
   "source": [
    "disease_X_train= np.loadtxt('disease_X_train.txt')"
   ]
  },
  {
   "cell_type": "code",
   "execution_count": 4,
   "id": "3eaae43d",
   "metadata": {},
   "outputs": [
    {
     "data": {
      "text/plain": [
       "353"
      ]
     },
     "execution_count": 4,
     "metadata": {},
     "output_type": "execute_result"
    }
   ],
   "source": [
    "len(disease_X_train)"
   ]
  },
  {
   "cell_type": "code",
   "execution_count": 5,
   "id": "fde68d3a",
   "metadata": {},
   "outputs": [],
   "source": [
    "disease_y_train= np.loadtxt('disease_y_train.txt')"
   ]
  },
  {
   "cell_type": "code",
   "execution_count": 6,
   "id": "b691a4df",
   "metadata": {},
   "outputs": [
    {
     "data": {
      "text/plain": [
       "array([144., 150., 280., 125.,  59.,  65., 281., 277., 167.,  90.,  72.,\n",
       "       178.,  88., 270., 101., 197.,  97.,  53.,  71., 262.,  52., 102.,\n",
       "       166., 189., 173., 220., 206.,  97.,  60.,  61., 242., 121., 128.,\n",
       "       104., 265., 132., 283., 174., 129., 257., 137.,  63.,  93., 232.,\n",
       "       208., 261., 179., 258., 262.,  51., 237.,  71., 139., 268.,  69.,\n",
       "       317., 249., 154., 192., 116.,  81., 122., 259., 191., 292.,  55.,\n",
       "       107., 210.,  91., 253.,  85., 252.,  59.,  78., 200.,  78., 245.,\n",
       "       175.,  42., 127.,  53.,  94., 104., 199., 265., 281., 248., 257.,\n",
       "       215., 303., 170.,  59., 277., 209., 138., 198., 124.,  96., 288.,\n",
       "       225., 265., 101.,  55., 198.,  51., 252.,  64., 220., 131., 212.,\n",
       "       142., 103., 155., 121.,  86., 111.,  65., 131.,  51., 128., 141.,\n",
       "        48., 109., 178.,  88.,  84., 216., 150.,  60.,  96., 190.,  74.,\n",
       "       279., 182., 160., 245., 276., 174., 180., 150., 196., 138.,  97.,\n",
       "       246., 321., 308., 109.,  69., 182., 258., 161., 178., 214.,  45.,\n",
       "       150., 160.,  55., 197., 185., 268., 310., 123.,  68.,  72., 185.,\n",
       "       144., 147., 168., 178., 246., 151., 127.,  83., 332., 152., 109.,\n",
       "        90.,  66., 214.,  85., 129.,  89., 259., 229., 200.,  77.,  54.,\n",
       "        31., 109., 206., 144., 118.,  83., 242., 259.,  72., 163., 181.,\n",
       "       141.,  71., 137., 195., 179., 102., 131.,  47., 235.,  77., 198.,\n",
       "        93., 162., 225., 275., 183., 306.,  81.,  55., 146., 196., 230.,\n",
       "       310.,  40., 135., 346.,  43., 128.,  77., 235.,  49.,  74.,  92.,\n",
       "        84., 263., 144., 142., 341., 115., 158., 273.,  85.,  88., 220.,\n",
       "        39.,  80., 172., 217., 336.,  52., 272., 115., 110., 131.,  71.,\n",
       "       275., 118.,  25., 100., 281., 221., 248., 200., 132.,  91.,  67.,\n",
       "       202.,  73.,  85., 275., 243.,  66., 293., 236., 243.,  87.,  39.,\n",
       "       217.,  92., 296., 292., 142.,  50.,  53., 104.,  75., 120., 142.,\n",
       "       143.,  99.,  65., 116., 233., 164.,  95.,  59., 139., 145., 177.,\n",
       "       185.,  97.,  42., 201., 241.,  70.,  78.,  49., 103.,  44., 111.,\n",
       "       191.,  47., 182.,  58., 155., 151.,  79., 104., 143., 152., 170.,\n",
       "        75., 200., 124.,  91.,  49., 163.,  53., 283., 178., 219., 200.,\n",
       "       113., 113.,  63., 114., 126., 274.,  88., 311.,  83.,  71., 134.,\n",
       "       244.,  65., 173.,  57.,  68., 141., 270., 134., 202., 148.,  64.,\n",
       "       302.])"
      ]
     },
     "execution_count": 6,
     "metadata": {},
     "output_type": "execute_result"
    }
   ],
   "source": [
    "disease_y_train"
   ]
  },
  {
   "cell_type": "markdown",
   "id": "cfc101d5",
   "metadata": {},
   "source": [
    "# Playing with Test Data"
   ]
  },
  {
   "cell_type": "code",
   "execution_count": 7,
   "id": "9208c0ee",
   "metadata": {},
   "outputs": [],
   "source": [
    "disease_X_test= np.loadtxt('disease_X_test.txt')"
   ]
  },
  {
   "cell_type": "code",
   "execution_count": 8,
   "id": "444bf131",
   "metadata": {},
   "outputs": [
    {
     "data": {
      "text/plain": [
       "array([[ 0.04534098, -0.04464164, -0.00620595, -0.01599898,  0.1250187 ,\n",
       "         0.1251981 ,  0.019187  ,  0.03430886,  0.03243232, -0.0052198 ],\n",
       "       [ 0.09256398, -0.04464164,  0.03690653,  0.02187239, -0.02496016,\n",
       "        -0.01665815,  0.00077881, -0.03949338, -0.02251653, -0.02178823],\n",
       "       [ 0.06350368,  0.05068012, -0.00405033, -0.01255612,  0.10300346,\n",
       "         0.04878988,  0.05600338, -0.00259226,  0.08449153, -0.01764613],\n",
       "       [ 0.09619652, -0.04464164,  0.0519959 ,  0.07926471,  0.05484511,\n",
       "         0.03657709, -0.07653559,  0.14132211,  0.09864806,  0.06105391],\n",
       "       [ 0.01264814,  0.05068012, -0.02021751, -0.00222757,  0.03833367,\n",
       "         0.05317395, -0.00658447,  0.03430886, -0.00514219, -0.00936191],\n",
       "       [ 0.0090156 , -0.04464164, -0.02452876, -0.02632753,  0.0988756 ,\n",
       "         0.0941964 ,  0.07072993, -0.00259226, -0.02139531,  0.00720652],\n",
       "       [-0.00914709,  0.05068012,  0.17055523,  0.01498668,  0.03007796,\n",
       "         0.03375875, -0.02131102,  0.03430886,  0.03365381,  0.03205916],\n",
       "       [-0.02367725,  0.05068012,  0.04552903,  0.02187239,  0.10988322,\n",
       "         0.08887288,  0.00077881,  0.03430886,  0.0741909 ,  0.06105391],\n",
       "       [-0.09269548,  0.05068012, -0.0902753 , -0.05731319, -0.02496016,\n",
       "        -0.03043668, -0.00658447, -0.00259226,  0.02405509,  0.00306441],\n",
       "       [-0.06000263,  0.05068012,  0.01535029, -0.01944183,  0.03695772,\n",
       "         0.04816358,  0.019187  , -0.00259226, -0.03074792, -0.0010777 ],\n",
       "       [-0.04183994, -0.04464164, -0.03315126, -0.02288468,  0.04658939,\n",
       "         0.04158746,  0.05600338, -0.02473293, -0.02595311, -0.03835666],\n",
       "       [ 0.00538306, -0.04464164, -0.05794093, -0.02288468, -0.0676147 ,\n",
       "        -0.06832765, -0.05444576, -0.00259226,  0.04289704, -0.08391984],\n",
       "       [-0.08906294, -0.04464164, -0.06117437, -0.02632753, -0.05523112,\n",
       "        -0.05454912,  0.04127682, -0.0763945 , -0.09393727, -0.05492509],\n",
       "       [ 0.01991321,  0.05068012,  0.01427248,  0.0631866 ,  0.01494247,\n",
       "         0.02029337, -0.04708248,  0.03430886,  0.04666178,  0.09004865],\n",
       "       [-0.01277963,  0.05068012, -0.05578531, -0.00222757, -0.02771206,\n",
       "        -0.02918409,  0.019187  , -0.03949338, -0.01705628,  0.04448548],\n",
       "       [-0.03457486,  0.05068012,  0.00564998, -0.00567042, -0.07311851,\n",
       "        -0.06269098, -0.00658447, -0.03949338, -0.04542404,  0.03205916],\n",
       "       [ 0.04170844,  0.05068012,  0.07139652,  0.00810098,  0.03833367,\n",
       "         0.01590929, -0.01762938,  0.03430886,  0.07340696,  0.08590655],\n",
       "       [ 0.06350368,  0.05068012,  0.08864151,  0.0700723 ,  0.02044629,\n",
       "         0.03751653, -0.05076412,  0.07120998,  0.02929656,  0.07348023],\n",
       "       [-0.03094232,  0.05068012,  0.02828403,  0.0700723 , -0.12678067,\n",
       "        -0.10684491, -0.05444576, -0.04798064, -0.03074792,  0.01549073],\n",
       "       [ 0.04897352,  0.05068012,  0.05846277,  0.0700723 ,  0.01356652,\n",
       "         0.02060651, -0.02131102,  0.03430886,  0.02200407,  0.02791705],\n",
       "       [-0.07090025, -0.04464164,  0.03906215, -0.03321323, -0.01257658,\n",
       "        -0.03450761, -0.02499266, -0.00259226,  0.06773705, -0.01350402],\n",
       "       [ 0.04897352, -0.04464164, -0.04285156, -0.05387034,  0.04521344,\n",
       "         0.05004247,  0.03391355, -0.00259226, -0.02595311, -0.0632093 ],\n",
       "       [-0.04183994, -0.04464164, -0.04931844, -0.03665608, -0.00707277,\n",
       "        -0.02260797,  0.08545648, -0.03949338, -0.0664902 ,  0.00720652],\n",
       "       [ 0.05987114,  0.05068012,  0.02289497,  0.04941519,  0.01631843,\n",
       "         0.01183836, -0.01394774, -0.00259226,  0.03954249,  0.01963284],\n",
       "       [-0.06000263, -0.04464164,  0.04445121, -0.01944183, -0.00982468,\n",
       "        -0.00757685,  0.02286863, -0.03949338, -0.02712902, -0.00936191],\n",
       "       [ 0.04170844,  0.05068012,  0.01427248,  0.04252949, -0.03046397,\n",
       "        -0.00131388, -0.04340085, -0.00259226, -0.03324559,  0.01549073],\n",
       "       [ 0.03081083,  0.05068012,  0.05954058,  0.0563009 , -0.02220825,\n",
       "         0.00119131, -0.03235593, -0.00259226, -0.02479543, -0.01764613],\n",
       "       [ 0.03807591,  0.05068012, -0.01806189,  0.06662945, -0.05110326,\n",
       "        -0.01665815, -0.07653559,  0.03430886, -0.01189685, -0.01350402],\n",
       "       [-0.05637009, -0.04464164, -0.07410811, -0.05042748, -0.02496016,\n",
       "        -0.04703355,  0.09281975, -0.0763945 , -0.0611758 , -0.04664087],\n",
       "       [ 0.01628068,  0.05068012, -0.02129532, -0.00911327,  0.03420581,\n",
       "         0.04785043,  0.00077881, -0.00259226, -0.01290868,  0.02377494],\n",
       "       [ 0.02717829, -0.04464164,  0.09295276, -0.0527342 ,  0.00806271,\n",
       "         0.03970857, -0.02867429,  0.02102446, -0.04835926,  0.01963284],\n",
       "       [-0.10359309, -0.04464164, -0.0374625 , -0.02632753,  0.0025589 ,\n",
       "         0.01998022,  0.01182372, -0.00259226, -0.06833155, -0.02593034],\n",
       "       [-0.00188202,  0.05068012,  0.01427248, -0.07452744,  0.0025589 ,\n",
       "         0.00620169, -0.01394774, -0.00259226,  0.01919647,  0.00306441],\n",
       "       [ 0.02717829,  0.05068012, -0.00620595,  0.02875809, -0.01670444,\n",
       "        -0.00162703, -0.0581274 ,  0.03430886,  0.02929656,  0.03205916],\n",
       "       [ 0.09619652, -0.04464164,  0.04013997, -0.05731319,  0.04521344,\n",
       "         0.06068952, -0.02131102,  0.03615391,  0.01255119,  0.02377494],\n",
       "       [-0.07816532,  0.05068012,  0.07786339,  0.05285804,  0.07823631,\n",
       "         0.0644473 ,  0.02655027, -0.00259226,  0.04067283, -0.00936191],\n",
       "       [-0.00914709,  0.05068012, -0.03099563, -0.02632753, -0.01120063,\n",
       "        -0.00100073, -0.02131102, -0.00259226,  0.00620674,  0.02791705],\n",
       "       [-0.00188202,  0.05068012, -0.03315126, -0.01830569,  0.03145391,\n",
       "         0.04284006, -0.01394774,  0.01991742,  0.01022672,  0.02791705],\n",
       "       [ 0.06713621,  0.05068012, -0.03099563,  0.00465813,  0.02457414,\n",
       "         0.03563764, -0.02867429,  0.03430886,  0.02337142,  0.08176444],\n",
       "       [ 0.01991321, -0.04464164, -0.05794093, -0.05731319, -0.00156896,\n",
       "        -0.01258722,  0.07441156, -0.03949338, -0.0611758 , -0.07563562],\n",
       "       [-0.00188202, -0.04464164, -0.06979687, -0.01255612, -0.00019301,\n",
       "        -0.00914259,  0.07072993, -0.03949338, -0.06291688,  0.04034337],\n",
       "       [ 0.06713621,  0.05068012, -0.02991782,  0.05743704, -0.00019301,\n",
       "        -0.01571871,  0.07441156, -0.05056372, -0.03845972,  0.00720652],\n",
       "       [ 0.04170844,  0.05068012, -0.02237314,  0.02875809, -0.06623874,\n",
       "        -0.04515466, -0.06180903, -0.00259226,  0.00286131, -0.05492509],\n",
       "       [ 0.11072668,  0.05068012, -0.03315126, -0.02288468, -0.00432087,\n",
       "         0.02029337, -0.06180903,  0.07120998,  0.01556846,  0.04448548],\n",
       "       [ 0.04170844, -0.04464164, -0.04500719,  0.03450765,  0.04383748,\n",
       "        -0.01571871,  0.03759519, -0.01440062,  0.08989708,  0.00720652],\n",
       "       [-0.01641217, -0.04464164, -0.03530688, -0.02632753,  0.03282986,\n",
       "         0.01716188,  0.10018303, -0.03949338, -0.07020936, -0.07977773],\n",
       "       [-0.09632802, -0.04464164, -0.03638469, -0.07452744, -0.03871969,\n",
       "        -0.02761835,  0.01550536, -0.03949338, -0.07409261, -0.0010777 ],\n",
       "       [ 0.03081083, -0.04464164, -0.05039625, -0.00222757, -0.0442235 ,\n",
       "        -0.08993489,  0.11859122, -0.0763945 , -0.01811369,  0.00306441],\n",
       "       [-0.02004471, -0.04464164, -0.08488624, -0.02632753, -0.03596778,\n",
       "        -0.03419447,  0.04127682, -0.05167075, -0.08237869, -0.04664087],\n",
       "       [-0.06000263, -0.04464164,  0.00133873, -0.02977038, -0.00707277,\n",
       "        -0.02166853,  0.01182372, -0.00259226,  0.03181246, -0.05492509],\n",
       "       [ 0.00538306, -0.04464164,  0.05846277, -0.04354178, -0.07311851,\n",
       "        -0.07239858,  0.019187  , -0.0763945 , -0.05140387, -0.02593034],\n",
       "       [-0.09632802, -0.04464164, -0.06979687, -0.06764174, -0.01945635,\n",
       "        -0.01070833,  0.01550536, -0.03949338, -0.04688253, -0.07977773],\n",
       "       [ 0.02717829,  0.05068012,  0.01750591, -0.03321323, -0.00707277,\n",
       "         0.04597154, -0.06549067,  0.07120998, -0.09643495, -0.05906719],\n",
       "       [ 0.01991321, -0.04464164, -0.04069594, -0.01599898, -0.00844872,\n",
       "        -0.0175976 ,  0.05232174, -0.03949338, -0.03074792,  0.00306441],\n",
       "       [-0.05273755,  0.05068012, -0.01806189,  0.08040085,  0.08924393,\n",
       "         0.10766179, -0.03971921,  0.1081111 ,  0.03606033, -0.04249877],\n",
       "       [-0.02730979, -0.04464164,  0.06492964, -0.00222757, -0.02496016,\n",
       "        -0.01728445,  0.02286863, -0.03949338, -0.0611758 , -0.0632093 ],\n",
       "       [-0.02367725, -0.04464164, -0.046085  , -0.03321323,  0.03282986,\n",
       "         0.03626394,  0.03759519, -0.00259226, -0.03324559,  0.01134862],\n",
       "       [ 0.03807591,  0.05068012,  0.06169621,  0.02187239, -0.0442235 ,\n",
       "        -0.03482076, -0.04340085, -0.00259226,  0.01990749, -0.01764613],\n",
       "       [-0.02730979, -0.04464164, -0.01806189, -0.04009893, -0.00294491,\n",
       "        -0.01133463,  0.03759519, -0.03949338, -0.0089434 , -0.05492509],\n",
       "       [-0.0382074 , -0.04464164, -0.0547075 , -0.07797029, -0.03321588,\n",
       "        -0.08649026,  0.14068104, -0.0763945 , -0.01919845, -0.0052198 ],\n",
       "       [-0.02367725, -0.04464164,  0.03043966, -0.00567042,  0.08236416,\n",
       "         0.09200436, -0.01762938,  0.07120998,  0.03304307,  0.00306441],\n",
       "       [-0.04183994, -0.04464164,  0.04121778, -0.02632753, -0.03183992,\n",
       "        -0.03043668, -0.03603757,  0.00294291,  0.03365381, -0.01764613],\n",
       "       [-0.06000263,  0.05068012,  0.05415152, -0.01944183, -0.04972731,\n",
       "        -0.04891244,  0.02286863, -0.03949338, -0.04398377, -0.0052198 ],\n",
       "       [ 0.01628068,  0.05068012, -0.04500719,  0.0631866 ,  0.01081462,\n",
       "        -0.00037443,  0.06336665, -0.03949338, -0.03074792,  0.03620126],\n",
       "       [-0.04183994, -0.04464164, -0.06548562, -0.04009893, -0.00569682,\n",
       "         0.01434355, -0.04340085,  0.03430886,  0.00702714, -0.01350402],\n",
       "       [ 0.07440129, -0.04464164,  0.01858372,  0.0631866 ,  0.06172487,\n",
       "         0.04284006,  0.00814208, -0.00259226,  0.05803805, -0.05906719],\n",
       "       [-0.05273755,  0.05068012, -0.01159501,  0.0563009 ,  0.05622106,\n",
       "         0.07290231, -0.03971921,  0.07120998,  0.03056363, -0.0052198 ],\n",
       "       [ 0.05260606,  0.05068012, -0.02452876,  0.0563009 , -0.00707277,\n",
       "        -0.00507166, -0.02131102, -0.00259226,  0.02671684, -0.03835666],\n",
       "       [-0.10722563, -0.04464164, -0.03422907, -0.06764174, -0.06348684,\n",
       "        -0.07051969,  0.00814208, -0.03949338, -0.00061174, -0.07977773],\n",
       "       [-0.06726771,  0.05068012, -0.01267283, -0.04009893, -0.01532849,\n",
       "         0.00463594, -0.0581274 ,  0.03430886,  0.01919647, -0.03421455],\n",
       "       [-0.07453279,  0.05068012, -0.01806189,  0.00810098, -0.01945635,\n",
       "        -0.02480001, -0.06549067,  0.03430886,  0.06731774, -0.01764613],\n",
       "       [-0.00188202,  0.05068012,  0.03043966,  0.05285804,  0.03970963,\n",
       "         0.05661859, -0.03971921,  0.07120998,  0.02539508,  0.02791705],\n",
       "       [ 0.05987114, -0.04464164, -0.02129532,  0.08728655,  0.04521344,\n",
       "         0.03156671, -0.04708248,  0.07120998,  0.07912244,  0.13561183],\n",
       "       [-0.06000263,  0.05068012, -0.0105172 , -0.01486283, -0.04972731,\n",
       "        -0.02354742, -0.0581274 ,  0.0158583 , -0.00991877, -0.03421455],\n",
       "       [ 0.06713621, -0.04464164, -0.06117437, -0.04009893, -0.02633611,\n",
       "        -0.02448686,  0.03391355, -0.03949338, -0.0561531 , -0.05906719],\n",
       "       [ 0.0090156 ,  0.05068012, -0.03961813,  0.02875809,  0.03833367,\n",
       "         0.0735286 , -0.07285395,  0.1081111 ,  0.01556846, -0.04664087],\n",
       "       [-0.02730979,  0.05068012,  0.06061839,  0.04941519,  0.08511607,\n",
       "         0.08636769, -0.00290283,  0.03430886,  0.03781053,  0.04862759],\n",
       "       [-0.04547248, -0.04464164,  0.03906215,  0.00121528,  0.01631843,\n",
       "         0.01528299, -0.02867429,  0.02655962,  0.04452873, -0.02593034],\n",
       "       [ 0.04534098,  0.05068012,  0.01966154,  0.03908664,  0.02044629,\n",
       "         0.02593004,  0.00814208, -0.00259226, -0.00330084,  0.01963284],\n",
       "       [ 0.01264814, -0.04464164, -0.02021751, -0.01599898,  0.01219057,\n",
       "         0.02123281, -0.07653559,  0.1081111 ,  0.0598794 , -0.02178823],\n",
       "       [-0.0854304 , -0.04464164, -0.00405033, -0.00911327, -0.00294491,\n",
       "         0.00776743,  0.02286863, -0.03949338, -0.0611758 , -0.01350402],\n",
       "       [-0.05637009, -0.04464164, -0.01159501, -0.03321323, -0.0469754 ,\n",
       "        -0.04765985,  0.00446045, -0.03949338, -0.00797714, -0.08806194],\n",
       "       [-0.04910502, -0.04464164, -0.06440781, -0.10207025, -0.00294491,\n",
       "        -0.01540556,  0.06336665, -0.04724262, -0.03324559, -0.05492509],\n",
       "       [-0.02730979, -0.04464164, -0.06009656, -0.02977038,  0.04658939,\n",
       "         0.01998022,  0.12227286, -0.03949338, -0.05140387, -0.00936191],\n",
       "       [ 0.00175052, -0.04464164, -0.06548562, -0.00567042, -0.00707277,\n",
       "        -0.01947649,  0.04127682, -0.03949338, -0.00330084,  0.00720652],\n",
       "       [ 0.01264814, -0.04464164, -0.02560657, -0.04009893, -0.03046397,\n",
       "        -0.04515466,  0.0780932 , -0.0763945 , -0.07213275,  0.01134862],\n",
       "       [-0.02730979, -0.04464164, -0.06332999, -0.05042748, -0.08962994,\n",
       "        -0.10433972,  0.05232174, -0.0763945 , -0.0561531 , -0.06735141],\n",
       "       [-0.02367725, -0.04464164, -0.06979687, -0.06419889, -0.05935898,\n",
       "        -0.05047819,  0.019187  , -0.03949338, -0.08913335, -0.05078298],\n",
       "       [-0.06363517, -0.04464164,  0.03582872, -0.02288468, -0.03046397,\n",
       "        -0.01885019, -0.00658447, -0.00259226, -0.02595311, -0.05492509]])"
      ]
     },
     "execution_count": 8,
     "metadata": {},
     "output_type": "execute_result"
    }
   ],
   "source": [
    "disease_X_test"
   ]
  },
  {
   "cell_type": "code",
   "execution_count": 9,
   "id": "03af9c7f",
   "metadata": {},
   "outputs": [],
   "source": [
    "disease_y_test= np.loadtxt('disease_y_test.txt')"
   ]
  },
  {
   "cell_type": "code",
   "execution_count": 10,
   "id": "29337f54",
   "metadata": {},
   "outputs": [
    {
     "data": {
      "text/plain": [
       "array([219.,  70., 202., 230., 111.,  84., 242., 272.,  94.,  96.,  94.,\n",
       "       252.,  99., 297., 135.,  67., 295., 264., 170., 275., 310.,  64.,\n",
       "       128., 232., 129., 118., 263.,  77.,  48., 107., 140., 113.,  90.,\n",
       "       164., 180., 233.,  42.,  84., 172.,  63.,  48., 108., 156., 168.,\n",
       "        90.,  52., 200.,  87.,  90., 258., 136., 158.,  69.,  72., 171.,\n",
       "        95.,  72., 151., 168.,  60., 122.,  52., 187., 102., 214., 248.,\n",
       "       181., 110., 140., 202., 101., 222., 281.,  61.,  89.,  91., 186.,\n",
       "       220., 237., 233.,  68., 190.,  96.,  72., 153.,  98.,  37.,  63.,\n",
       "       184.])"
      ]
     },
     "execution_count": 10,
     "metadata": {},
     "output_type": "execute_result"
    }
   ],
   "source": [
    "disease_y_test"
   ]
  },
  {
   "cell_type": "markdown",
   "id": "71e91d59",
   "metadata": {},
   "source": [
    "# Question 1"
   ]
  },
  {
   "cell_type": "code",
   "execution_count": 11,
   "id": "0f51af8a",
   "metadata": {},
   "outputs": [
    {
     "name": "stdout",
     "output_type": "stream",
     "text": [
      "89\n"
     ]
    }
   ],
   "source": [
    "print(len(disease_y_test))"
   ]
  },
  {
   "cell_type": "code",
   "execution_count": 12,
   "id": "2be71d0c",
   "metadata": {},
   "outputs": [],
   "source": [
    "mean_disease_y_train=np.mean(disease_y_train)"
   ]
  },
  {
   "cell_type": "code",
   "execution_count": 13,
   "id": "5485a42c",
   "metadata": {},
   "outputs": [
    {
     "data": {
      "text/plain": [
       "153.73654390934846"
      ]
     },
     "execution_count": 13,
     "metadata": {},
     "output_type": "execute_result"
    }
   ],
   "source": [
    "mean_disease_y_train"
   ]
  },
  {
   "cell_type": "code",
   "execution_count": 14,
   "id": "4669c8dc",
   "metadata": {},
   "outputs": [],
   "source": [
    "mean_disease_y_train_array = np.full(len(disease_y_test), mean_disease_y_train)"
   ]
  },
  {
   "cell_type": "code",
   "execution_count": 15,
   "id": "95856b8d",
   "metadata": {},
   "outputs": [
    {
     "data": {
      "text/plain": [
       "array([153.73654391, 153.73654391, 153.73654391, 153.73654391,\n",
       "       153.73654391, 153.73654391, 153.73654391, 153.73654391,\n",
       "       153.73654391, 153.73654391, 153.73654391, 153.73654391,\n",
       "       153.73654391, 153.73654391, 153.73654391, 153.73654391,\n",
       "       153.73654391, 153.73654391, 153.73654391, 153.73654391,\n",
       "       153.73654391, 153.73654391, 153.73654391, 153.73654391,\n",
       "       153.73654391, 153.73654391, 153.73654391, 153.73654391,\n",
       "       153.73654391, 153.73654391, 153.73654391, 153.73654391,\n",
       "       153.73654391, 153.73654391, 153.73654391, 153.73654391,\n",
       "       153.73654391, 153.73654391, 153.73654391, 153.73654391,\n",
       "       153.73654391, 153.73654391, 153.73654391, 153.73654391,\n",
       "       153.73654391, 153.73654391, 153.73654391, 153.73654391,\n",
       "       153.73654391, 153.73654391, 153.73654391, 153.73654391,\n",
       "       153.73654391, 153.73654391, 153.73654391, 153.73654391,\n",
       "       153.73654391, 153.73654391, 153.73654391, 153.73654391,\n",
       "       153.73654391, 153.73654391, 153.73654391, 153.73654391,\n",
       "       153.73654391, 153.73654391, 153.73654391, 153.73654391,\n",
       "       153.73654391, 153.73654391, 153.73654391, 153.73654391,\n",
       "       153.73654391, 153.73654391, 153.73654391, 153.73654391,\n",
       "       153.73654391, 153.73654391, 153.73654391, 153.73654391,\n",
       "       153.73654391, 153.73654391, 153.73654391, 153.73654391,\n",
       "       153.73654391, 153.73654391, 153.73654391, 153.73654391,\n",
       "       153.73654391])"
      ]
     },
     "execution_count": 15,
     "metadata": {},
     "output_type": "execute_result"
    }
   ],
   "source": [
    "mean_disease_y_train_array"
   ]
  },
  {
   "cell_type": "code",
   "execution_count": 16,
   "id": "f87c9bbc",
   "metadata": {},
   "outputs": [
    {
     "data": {
      "text/plain": [
       "89"
      ]
     },
     "execution_count": 16,
     "metadata": {},
     "output_type": "execute_result"
    }
   ],
   "source": [
    "len(mean_disease_y_train_array)"
   ]
  },
  {
   "cell_type": "code",
   "execution_count": 17,
   "id": "306c0c98",
   "metadata": {},
   "outputs": [],
   "source": [
    "mse_for_baseline = mean_squared_error(mean_disease_y_train_array, disease_y_test)"
   ]
  },
  {
   "cell_type": "code",
   "execution_count": 18,
   "id": "3eab5afe",
   "metadata": {},
   "outputs": [
    {
     "data": {
      "text/plain": [
       "5361.533457238513"
      ]
     },
     "execution_count": 18,
     "metadata": {},
     "output_type": "execute_result"
    }
   ],
   "source": [
    "mse_for_baseline"
   ]
  },
  {
   "cell_type": "markdown",
   "id": "91b54f4f",
   "metadata": {},
   "source": [
    "# Question 2"
   ]
  },
  {
   "cell_type": "code",
   "execution_count": 19,
   "id": "43c1b71a",
   "metadata": {},
   "outputs": [],
   "source": [
    "Linear_model =LinearRegression(fit_intercept=True)"
   ]
  },
  {
   "cell_type": "code",
   "execution_count": 20,
   "id": "b6a1b9c9",
   "metadata": {},
   "outputs": [
    {
     "data": {
      "text/html": [
       "<style>#sk-container-id-1 {color: black;}#sk-container-id-1 pre{padding: 0;}#sk-container-id-1 div.sk-toggleable {background-color: white;}#sk-container-id-1 label.sk-toggleable__label {cursor: pointer;display: block;width: 100%;margin-bottom: 0;padding: 0.3em;box-sizing: border-box;text-align: center;}#sk-container-id-1 label.sk-toggleable__label-arrow:before {content: \"▸\";float: left;margin-right: 0.25em;color: #696969;}#sk-container-id-1 label.sk-toggleable__label-arrow:hover:before {color: black;}#sk-container-id-1 div.sk-estimator:hover label.sk-toggleable__label-arrow:before {color: black;}#sk-container-id-1 div.sk-toggleable__content {max-height: 0;max-width: 0;overflow: hidden;text-align: left;background-color: #f0f8ff;}#sk-container-id-1 div.sk-toggleable__content pre {margin: 0.2em;color: black;border-radius: 0.25em;background-color: #f0f8ff;}#sk-container-id-1 input.sk-toggleable__control:checked~div.sk-toggleable__content {max-height: 200px;max-width: 100%;overflow: auto;}#sk-container-id-1 input.sk-toggleable__control:checked~label.sk-toggleable__label-arrow:before {content: \"▾\";}#sk-container-id-1 div.sk-estimator input.sk-toggleable__control:checked~label.sk-toggleable__label {background-color: #d4ebff;}#sk-container-id-1 div.sk-label input.sk-toggleable__control:checked~label.sk-toggleable__label {background-color: #d4ebff;}#sk-container-id-1 input.sk-hidden--visually {border: 0;clip: rect(1px 1px 1px 1px);clip: rect(1px, 1px, 1px, 1px);height: 1px;margin: -1px;overflow: hidden;padding: 0;position: absolute;width: 1px;}#sk-container-id-1 div.sk-estimator {font-family: monospace;background-color: #f0f8ff;border: 1px dotted black;border-radius: 0.25em;box-sizing: border-box;margin-bottom: 0.5em;}#sk-container-id-1 div.sk-estimator:hover {background-color: #d4ebff;}#sk-container-id-1 div.sk-parallel-item::after {content: \"\";width: 100%;border-bottom: 1px solid gray;flex-grow: 1;}#sk-container-id-1 div.sk-label:hover label.sk-toggleable__label {background-color: #d4ebff;}#sk-container-id-1 div.sk-serial::before {content: \"\";position: absolute;border-left: 1px solid gray;box-sizing: border-box;top: 0;bottom: 0;left: 50%;z-index: 0;}#sk-container-id-1 div.sk-serial {display: flex;flex-direction: column;align-items: center;background-color: white;padding-right: 0.2em;padding-left: 0.2em;position: relative;}#sk-container-id-1 div.sk-item {position: relative;z-index: 1;}#sk-container-id-1 div.sk-parallel {display: flex;align-items: stretch;justify-content: center;background-color: white;position: relative;}#sk-container-id-1 div.sk-item::before, #sk-container-id-1 div.sk-parallel-item::before {content: \"\";position: absolute;border-left: 1px solid gray;box-sizing: border-box;top: 0;bottom: 0;left: 50%;z-index: -1;}#sk-container-id-1 div.sk-parallel-item {display: flex;flex-direction: column;z-index: 1;position: relative;background-color: white;}#sk-container-id-1 div.sk-parallel-item:first-child::after {align-self: flex-end;width: 50%;}#sk-container-id-1 div.sk-parallel-item:last-child::after {align-self: flex-start;width: 50%;}#sk-container-id-1 div.sk-parallel-item:only-child::after {width: 0;}#sk-container-id-1 div.sk-dashed-wrapped {border: 1px dashed gray;margin: 0 0.4em 0.5em 0.4em;box-sizing: border-box;padding-bottom: 0.4em;background-color: white;}#sk-container-id-1 div.sk-label label {font-family: monospace;font-weight: bold;display: inline-block;line-height: 1.2em;}#sk-container-id-1 div.sk-label-container {text-align: center;}#sk-container-id-1 div.sk-container {/* jupyter's `normalize.less` sets `[hidden] { display: none; }` but bootstrap.min.css set `[hidden] { display: none !important; }` so we also need the `!important` here to be able to override the default hidden behavior on the sphinx rendered scikit-learn.org. See: https://github.com/scikit-learn/scikit-learn/issues/21755 */display: inline-block !important;position: relative;}#sk-container-id-1 div.sk-text-repr-fallback {display: none;}</style><div id=\"sk-container-id-1\" class=\"sk-top-container\"><div class=\"sk-text-repr-fallback\"><pre>LinearRegression()</pre><b>In a Jupyter environment, please rerun this cell to show the HTML representation or trust the notebook. <br />On GitHub, the HTML representation is unable to render, please try loading this page with nbviewer.org.</b></div><div class=\"sk-container\" hidden><div class=\"sk-item\"><div class=\"sk-estimator sk-toggleable\"><input class=\"sk-toggleable__control sk-hidden--visually\" id=\"sk-estimator-id-1\" type=\"checkbox\" checked><label for=\"sk-estimator-id-1\" class=\"sk-toggleable__label sk-toggleable__label-arrow\">LinearRegression</label><div class=\"sk-toggleable__content\"><pre>LinearRegression()</pre></div></div></div></div></div>"
      ],
      "text/plain": [
       "LinearRegression()"
      ]
     },
     "execution_count": 20,
     "metadata": {},
     "output_type": "execute_result"
    }
   ],
   "source": [
    "Linear_model.fit(disease_X_train,disease_y_train)"
   ]
  },
  {
   "cell_type": "code",
   "execution_count": 21,
   "id": "0d8e8f51",
   "metadata": {},
   "outputs": [],
   "source": [
    "Linear_model_predict=Linear_model.predict(disease_X_test)"
   ]
  },
  {
   "cell_type": "code",
   "execution_count": 22,
   "id": "41c615fc",
   "metadata": {},
   "outputs": [
    {
     "name": "stdout",
     "output_type": "stream",
     "text": [
      "[  37.90402135 -241.96436231  542.42875852  347.70384391 -931.48884588\n",
      "  518.06227698  163.41998299  275.31790158  736.1988589    48.67065743]\n"
     ]
    }
   ],
   "source": [
    "print(Linear_model.coef_)"
   ]
  },
  {
   "cell_type": "code",
   "execution_count": 23,
   "id": "07886399",
   "metadata": {},
   "outputs": [
    {
     "data": {
      "text/plain": [
       "array([139.5475584 , 179.51720835, 134.03875572, 291.41702925,\n",
       "       123.78965872,  92.1723465 , 258.23238899, 181.33732057,\n",
       "        90.22411311, 108.63375858,  94.13865744, 168.43486358,\n",
       "        53.5047888 , 206.63081659, 100.12925869, 130.66657085,\n",
       "       219.53071499, 250.7803234 , 196.3688346 , 218.57511815,\n",
       "       207.35050182,  88.48340941,  70.43285917, 188.95914235,\n",
       "       154.8868162 , 159.36170122, 188.31263363, 180.39094033,\n",
       "        47.99046561, 108.97453871, 174.77897633,  86.36406656,\n",
       "       132.95761215, 184.53819483, 173.83220911, 190.35858492,\n",
       "       124.4156176 , 119.65110656, 147.95168682,  59.05405241,\n",
       "        71.62331856, 107.68284704, 165.45365458, 155.00975931,\n",
       "       171.04799096,  61.45761356,  71.66672581, 114.96732206,\n",
       "        51.57975523, 167.57599528, 152.52291955,  62.95568515,\n",
       "       103.49741722, 109.20751489, 175.64118426, 154.60296242,\n",
       "        94.41704366, 210.74209145, 120.2566205 ,  77.61585399,\n",
       "       187.93203995, 206.49337474, 140.63167076, 105.59678023,\n",
       "       130.70432536, 202.18534537, 171.13039501, 164.91423047,\n",
       "       124.72472569, 144.81030894, 181.99635452, 199.41369642,\n",
       "       234.21436188, 145.95665512,  79.86703276, 157.36941275,\n",
       "       192.74412541, 208.89814032, 158.58722555, 206.02195855,\n",
       "       107.47971675, 140.93598906,  54.82129332,  55.92573195,\n",
       "       115.01180018,  78.95584188,  81.56087285,  54.37997256,\n",
       "       166.2543518 ])"
      ]
     },
     "execution_count": 23,
     "metadata": {},
     "output_type": "execute_result"
    }
   ],
   "source": [
    "Linear_model_predict"
   ]
  },
  {
   "cell_type": "code",
   "execution_count": 24,
   "id": "fef91918",
   "metadata": {},
   "outputs": [
    {
     "data": {
      "text/plain": [
       "89"
      ]
     },
     "execution_count": 24,
     "metadata": {},
     "output_type": "execute_result"
    }
   ],
   "source": [
    "len(Linear_model_predict)"
   ]
  },
  {
   "cell_type": "code",
   "execution_count": 25,
   "id": "58ad54b5",
   "metadata": {},
   "outputs": [],
   "source": [
    "mse_for_LinearRegression = mean_squared_error(Linear_model_predict, disease_y_test)"
   ]
  },
  {
   "cell_type": "code",
   "execution_count": 26,
   "id": "458cce4a",
   "metadata": {},
   "outputs": [
    {
     "data": {
      "text/plain": [
       "2900.193628493482"
      ]
     },
     "execution_count": 26,
     "metadata": {},
     "output_type": "execute_result"
    }
   ],
   "source": [
    "mse_for_LinearRegression"
   ]
  },
  {
   "cell_type": "markdown",
   "id": "61ef2ab6",
   "metadata": {},
   "source": [
    "# Question 3"
   ]
  },
  {
   "cell_type": "code",
   "execution_count": 27,
   "id": "b9aba778",
   "metadata": {},
   "outputs": [],
   "source": [
    "model_Decision_TreeRegressor = DecisionTreeRegressor(max_depth=5,min_samples_leaf=5,max_leaf_nodes=16) "
   ]
  },
  {
   "cell_type": "code",
   "execution_count": 28,
   "id": "bc327df5",
   "metadata": {},
   "outputs": [
    {
     "data": {
      "text/html": [
       "<style>#sk-container-id-2 {color: black;}#sk-container-id-2 pre{padding: 0;}#sk-container-id-2 div.sk-toggleable {background-color: white;}#sk-container-id-2 label.sk-toggleable__label {cursor: pointer;display: block;width: 100%;margin-bottom: 0;padding: 0.3em;box-sizing: border-box;text-align: center;}#sk-container-id-2 label.sk-toggleable__label-arrow:before {content: \"▸\";float: left;margin-right: 0.25em;color: #696969;}#sk-container-id-2 label.sk-toggleable__label-arrow:hover:before {color: black;}#sk-container-id-2 div.sk-estimator:hover label.sk-toggleable__label-arrow:before {color: black;}#sk-container-id-2 div.sk-toggleable__content {max-height: 0;max-width: 0;overflow: hidden;text-align: left;background-color: #f0f8ff;}#sk-container-id-2 div.sk-toggleable__content pre {margin: 0.2em;color: black;border-radius: 0.25em;background-color: #f0f8ff;}#sk-container-id-2 input.sk-toggleable__control:checked~div.sk-toggleable__content {max-height: 200px;max-width: 100%;overflow: auto;}#sk-container-id-2 input.sk-toggleable__control:checked~label.sk-toggleable__label-arrow:before {content: \"▾\";}#sk-container-id-2 div.sk-estimator input.sk-toggleable__control:checked~label.sk-toggleable__label {background-color: #d4ebff;}#sk-container-id-2 div.sk-label input.sk-toggleable__control:checked~label.sk-toggleable__label {background-color: #d4ebff;}#sk-container-id-2 input.sk-hidden--visually {border: 0;clip: rect(1px 1px 1px 1px);clip: rect(1px, 1px, 1px, 1px);height: 1px;margin: -1px;overflow: hidden;padding: 0;position: absolute;width: 1px;}#sk-container-id-2 div.sk-estimator {font-family: monospace;background-color: #f0f8ff;border: 1px dotted black;border-radius: 0.25em;box-sizing: border-box;margin-bottom: 0.5em;}#sk-container-id-2 div.sk-estimator:hover {background-color: #d4ebff;}#sk-container-id-2 div.sk-parallel-item::after {content: \"\";width: 100%;border-bottom: 1px solid gray;flex-grow: 1;}#sk-container-id-2 div.sk-label:hover label.sk-toggleable__label {background-color: #d4ebff;}#sk-container-id-2 div.sk-serial::before {content: \"\";position: absolute;border-left: 1px solid gray;box-sizing: border-box;top: 0;bottom: 0;left: 50%;z-index: 0;}#sk-container-id-2 div.sk-serial {display: flex;flex-direction: column;align-items: center;background-color: white;padding-right: 0.2em;padding-left: 0.2em;position: relative;}#sk-container-id-2 div.sk-item {position: relative;z-index: 1;}#sk-container-id-2 div.sk-parallel {display: flex;align-items: stretch;justify-content: center;background-color: white;position: relative;}#sk-container-id-2 div.sk-item::before, #sk-container-id-2 div.sk-parallel-item::before {content: \"\";position: absolute;border-left: 1px solid gray;box-sizing: border-box;top: 0;bottom: 0;left: 50%;z-index: -1;}#sk-container-id-2 div.sk-parallel-item {display: flex;flex-direction: column;z-index: 1;position: relative;background-color: white;}#sk-container-id-2 div.sk-parallel-item:first-child::after {align-self: flex-end;width: 50%;}#sk-container-id-2 div.sk-parallel-item:last-child::after {align-self: flex-start;width: 50%;}#sk-container-id-2 div.sk-parallel-item:only-child::after {width: 0;}#sk-container-id-2 div.sk-dashed-wrapped {border: 1px dashed gray;margin: 0 0.4em 0.5em 0.4em;box-sizing: border-box;padding-bottom: 0.4em;background-color: white;}#sk-container-id-2 div.sk-label label {font-family: monospace;font-weight: bold;display: inline-block;line-height: 1.2em;}#sk-container-id-2 div.sk-label-container {text-align: center;}#sk-container-id-2 div.sk-container {/* jupyter's `normalize.less` sets `[hidden] { display: none; }` but bootstrap.min.css set `[hidden] { display: none !important; }` so we also need the `!important` here to be able to override the default hidden behavior on the sphinx rendered scikit-learn.org. See: https://github.com/scikit-learn/scikit-learn/issues/21755 */display: inline-block !important;position: relative;}#sk-container-id-2 div.sk-text-repr-fallback {display: none;}</style><div id=\"sk-container-id-2\" class=\"sk-top-container\"><div class=\"sk-text-repr-fallback\"><pre>DecisionTreeRegressor(max_depth=5, max_leaf_nodes=16, min_samples_leaf=5)</pre><b>In a Jupyter environment, please rerun this cell to show the HTML representation or trust the notebook. <br />On GitHub, the HTML representation is unable to render, please try loading this page with nbviewer.org.</b></div><div class=\"sk-container\" hidden><div class=\"sk-item\"><div class=\"sk-estimator sk-toggleable\"><input class=\"sk-toggleable__control sk-hidden--visually\" id=\"sk-estimator-id-2\" type=\"checkbox\" checked><label for=\"sk-estimator-id-2\" class=\"sk-toggleable__label sk-toggleable__label-arrow\">DecisionTreeRegressor</label><div class=\"sk-toggleable__content\"><pre>DecisionTreeRegressor(max_depth=5, max_leaf_nodes=16, min_samples_leaf=5)</pre></div></div></div></div></div>"
      ],
      "text/plain": [
       "DecisionTreeRegressor(max_depth=5, max_leaf_nodes=16, min_samples_leaf=5)"
      ]
     },
     "execution_count": 28,
     "metadata": {},
     "output_type": "execute_result"
    }
   ],
   "source": [
    "model_Decision_TreeRegressor.fit(disease_X_train,disease_y_train)"
   ]
  },
  {
   "cell_type": "code",
   "execution_count": 29,
   "id": "a46e7440",
   "metadata": {},
   "outputs": [],
   "source": [
    "model_Decision_TreeRegressor_perdict=model_Decision_TreeRegressor.predict(disease_X_test)"
   ]
  },
  {
   "cell_type": "code",
   "execution_count": 30,
   "id": "bc2e3c3c",
   "metadata": {},
   "outputs": [],
   "source": [
    "mse_for_Decision_TreeRegressor = mean_squared_error(model_Decision_TreeRegressor_perdict, disease_y_test)"
   ]
  },
  {
   "cell_type": "code",
   "execution_count": 31,
   "id": "0d5b4db4",
   "metadata": {},
   "outputs": [
    {
     "data": {
      "text/plain": [
       "2559.2946640833115"
      ]
     },
     "execution_count": 31,
     "metadata": {},
     "output_type": "execute_result"
    }
   ],
   "source": [
    "mse_for_Decision_TreeRegressor"
   ]
  },
  {
   "cell_type": "markdown",
   "id": "88615d9d",
   "metadata": {},
   "source": [
    "# Question 4"
   ]
  },
  {
   "cell_type": "code",
   "execution_count": 32,
   "id": "b5e07042",
   "metadata": {},
   "outputs": [],
   "source": [
    "model_Random_Forest= RandomForestRegressor(n_estimators=500,max_depth=4,random_state=2)"
   ]
  },
  {
   "cell_type": "code",
   "execution_count": 33,
   "id": "820a4e87",
   "metadata": {},
   "outputs": [
    {
     "data": {
      "text/html": [
       "<style>#sk-container-id-3 {color: black;}#sk-container-id-3 pre{padding: 0;}#sk-container-id-3 div.sk-toggleable {background-color: white;}#sk-container-id-3 label.sk-toggleable__label {cursor: pointer;display: block;width: 100%;margin-bottom: 0;padding: 0.3em;box-sizing: border-box;text-align: center;}#sk-container-id-3 label.sk-toggleable__label-arrow:before {content: \"▸\";float: left;margin-right: 0.25em;color: #696969;}#sk-container-id-3 label.sk-toggleable__label-arrow:hover:before {color: black;}#sk-container-id-3 div.sk-estimator:hover label.sk-toggleable__label-arrow:before {color: black;}#sk-container-id-3 div.sk-toggleable__content {max-height: 0;max-width: 0;overflow: hidden;text-align: left;background-color: #f0f8ff;}#sk-container-id-3 div.sk-toggleable__content pre {margin: 0.2em;color: black;border-radius: 0.25em;background-color: #f0f8ff;}#sk-container-id-3 input.sk-toggleable__control:checked~div.sk-toggleable__content {max-height: 200px;max-width: 100%;overflow: auto;}#sk-container-id-3 input.sk-toggleable__control:checked~label.sk-toggleable__label-arrow:before {content: \"▾\";}#sk-container-id-3 div.sk-estimator input.sk-toggleable__control:checked~label.sk-toggleable__label {background-color: #d4ebff;}#sk-container-id-3 div.sk-label input.sk-toggleable__control:checked~label.sk-toggleable__label {background-color: #d4ebff;}#sk-container-id-3 input.sk-hidden--visually {border: 0;clip: rect(1px 1px 1px 1px);clip: rect(1px, 1px, 1px, 1px);height: 1px;margin: -1px;overflow: hidden;padding: 0;position: absolute;width: 1px;}#sk-container-id-3 div.sk-estimator {font-family: monospace;background-color: #f0f8ff;border: 1px dotted black;border-radius: 0.25em;box-sizing: border-box;margin-bottom: 0.5em;}#sk-container-id-3 div.sk-estimator:hover {background-color: #d4ebff;}#sk-container-id-3 div.sk-parallel-item::after {content: \"\";width: 100%;border-bottom: 1px solid gray;flex-grow: 1;}#sk-container-id-3 div.sk-label:hover label.sk-toggleable__label {background-color: #d4ebff;}#sk-container-id-3 div.sk-serial::before {content: \"\";position: absolute;border-left: 1px solid gray;box-sizing: border-box;top: 0;bottom: 0;left: 50%;z-index: 0;}#sk-container-id-3 div.sk-serial {display: flex;flex-direction: column;align-items: center;background-color: white;padding-right: 0.2em;padding-left: 0.2em;position: relative;}#sk-container-id-3 div.sk-item {position: relative;z-index: 1;}#sk-container-id-3 div.sk-parallel {display: flex;align-items: stretch;justify-content: center;background-color: white;position: relative;}#sk-container-id-3 div.sk-item::before, #sk-container-id-3 div.sk-parallel-item::before {content: \"\";position: absolute;border-left: 1px solid gray;box-sizing: border-box;top: 0;bottom: 0;left: 50%;z-index: -1;}#sk-container-id-3 div.sk-parallel-item {display: flex;flex-direction: column;z-index: 1;position: relative;background-color: white;}#sk-container-id-3 div.sk-parallel-item:first-child::after {align-self: flex-end;width: 50%;}#sk-container-id-3 div.sk-parallel-item:last-child::after {align-self: flex-start;width: 50%;}#sk-container-id-3 div.sk-parallel-item:only-child::after {width: 0;}#sk-container-id-3 div.sk-dashed-wrapped {border: 1px dashed gray;margin: 0 0.4em 0.5em 0.4em;box-sizing: border-box;padding-bottom: 0.4em;background-color: white;}#sk-container-id-3 div.sk-label label {font-family: monospace;font-weight: bold;display: inline-block;line-height: 1.2em;}#sk-container-id-3 div.sk-label-container {text-align: center;}#sk-container-id-3 div.sk-container {/* jupyter's `normalize.less` sets `[hidden] { display: none; }` but bootstrap.min.css set `[hidden] { display: none !important; }` so we also need the `!important` here to be able to override the default hidden behavior on the sphinx rendered scikit-learn.org. See: https://github.com/scikit-learn/scikit-learn/issues/21755 */display: inline-block !important;position: relative;}#sk-container-id-3 div.sk-text-repr-fallback {display: none;}</style><div id=\"sk-container-id-3\" class=\"sk-top-container\"><div class=\"sk-text-repr-fallback\"><pre>RandomForestRegressor(max_depth=4, n_estimators=500, random_state=2)</pre><b>In a Jupyter environment, please rerun this cell to show the HTML representation or trust the notebook. <br />On GitHub, the HTML representation is unable to render, please try loading this page with nbviewer.org.</b></div><div class=\"sk-container\" hidden><div class=\"sk-item\"><div class=\"sk-estimator sk-toggleable\"><input class=\"sk-toggleable__control sk-hidden--visually\" id=\"sk-estimator-id-3\" type=\"checkbox\" checked><label for=\"sk-estimator-id-3\" class=\"sk-toggleable__label sk-toggleable__label-arrow\">RandomForestRegressor</label><div class=\"sk-toggleable__content\"><pre>RandomForestRegressor(max_depth=4, n_estimators=500, random_state=2)</pre></div></div></div></div></div>"
      ],
      "text/plain": [
       "RandomForestRegressor(max_depth=4, n_estimators=500, random_state=2)"
      ]
     },
     "execution_count": 33,
     "metadata": {},
     "output_type": "execute_result"
    }
   ],
   "source": [
    "model_Random_Forest.fit(disease_X_train,disease_y_train)"
   ]
  },
  {
   "cell_type": "code",
   "execution_count": 34,
   "id": "5260f34f",
   "metadata": {},
   "outputs": [],
   "source": [
    "model_Random_Forest_predict=model_Random_Forest.predict(disease_X_test)"
   ]
  },
  {
   "cell_type": "code",
   "execution_count": 35,
   "id": "0f5109b9",
   "metadata": {},
   "outputs": [],
   "source": [
    "Mse_model_Random_Forest=mean_squared_error(model_Random_Forest_predict,disease_y_test)"
   ]
  },
  {
   "cell_type": "code",
   "execution_count": 36,
   "id": "1650f371",
   "metadata": {},
   "outputs": [
    {
     "data": {
      "text/plain": [
       "2772.3961680570296"
      ]
     },
     "execution_count": 36,
     "metadata": {},
     "output_type": "execute_result"
    }
   ],
   "source": [
    "Mse_model_Random_Forest"
   ]
  }
 ],
 "metadata": {
  "kernelspec": {
   "display_name": "Python 3 (ipykernel)",
   "language": "python",
   "name": "python3"
  },
  "language_info": {
   "codemirror_mode": {
    "name": "ipython",
    "version": 3
   },
   "file_extension": ".py",
   "mimetype": "text/x-python",
   "name": "python",
   "nbconvert_exporter": "python",
   "pygments_lexer": "ipython3",
   "version": "3.11.4"
  }
 },
 "nbformat": 4,
 "nbformat_minor": 5
}
